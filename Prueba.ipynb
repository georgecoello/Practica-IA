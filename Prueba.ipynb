{
 "cells": [
  {
   "cell_type": "markdown",
   "id": "8f6e39a6",
   "metadata": {},
   "source": [
    "Prueba\n",
    "=== \n",
    "\n",
    "Este documento es una prueba para hacer la tarea antes, ya tu sabes"
   ]
  },
  {
   "cell_type": "code",
   "execution_count": 1,
   "id": "c555ff2f",
   "metadata": {},
   "outputs": [],
   "source": [
    "import pandas as pd \n",
    "weather_data = {\n",
    "    'dia': ['21/09/2022','23/10/2022','03/10/2022','28/06/2022','21/08/2022'],\n",
    "    'temperatura':[33,28,30,30,25],\n",
    "    'viento': [5,4,5,4,3],\n",
    "    'evento': ['Sol', 'Lluvia', 'Nieve','Ventoso','Ventoso']\n",
    "}\n",
    "\n",
    "df = pd.DataFrame(weather_data)\n"
   ]
  },
  {
   "cell_type": "markdown",
   "id": "3cfcfee0",
   "metadata": {},
   "source": [
    "df.shape\n",
    "---\n",
    "Muestra las dimensiones de la tabla\n",
    "\n",
    "También se pueden mostrar la información por filas y columnas"
   ]
  },
  {
   "cell_type": "code",
   "execution_count": 18,
   "id": "ab6a9c29",
   "metadata": {},
   "outputs": [],
   "source": [
    "fila, columna = df.shape"
   ]
  },
  {
   "cell_type": "code",
   "execution_count": 19,
   "id": "db2bb1eb",
   "metadata": {},
   "outputs": [
    {
     "data": {
      "text/plain": [
       "(5, 4)"
      ]
     },
     "execution_count": 19,
     "metadata": {},
     "output_type": "execute_result"
    }
   ],
   "source": [
    "fila, columna"
   ]
  },
  {
   "cell_type": "code",
   "execution_count": 20,
   "id": "53909559",
   "metadata": {},
   "outputs": [
    {
     "data": {
      "text/html": [
       "<div>\n",
       "<style scoped>\n",
       "    .dataframe tbody tr th:only-of-type {\n",
       "        vertical-align: middle;\n",
       "    }\n",
       "\n",
       "    .dataframe tbody tr th {\n",
       "        vertical-align: top;\n",
       "    }\n",
       "\n",
       "    .dataframe thead th {\n",
       "        text-align: right;\n",
       "    }\n",
       "</style>\n",
       "<table border=\"1\" class=\"dataframe\">\n",
       "  <thead>\n",
       "    <tr style=\"text-align: right;\">\n",
       "      <th></th>\n",
       "      <th>dia</th>\n",
       "      <th>temperatura</th>\n",
       "      <th>viento</th>\n",
       "      <th>evento</th>\n",
       "    </tr>\n",
       "  </thead>\n",
       "  <tbody>\n",
       "    <tr>\n",
       "      <th>0</th>\n",
       "      <td>21/09/2022</td>\n",
       "      <td>33</td>\n",
       "      <td>5</td>\n",
       "      <td>Sol</td>\n",
       "    </tr>\n",
       "    <tr>\n",
       "      <th>1</th>\n",
       "      <td>23/10/2022</td>\n",
       "      <td>28</td>\n",
       "      <td>4</td>\n",
       "      <td>Lluvia</td>\n",
       "    </tr>\n",
       "    <tr>\n",
       "      <th>2</th>\n",
       "      <td>03/10/2022</td>\n",
       "      <td>30</td>\n",
       "      <td>5</td>\n",
       "      <td>Nieve</td>\n",
       "    </tr>\n",
       "    <tr>\n",
       "      <th>3</th>\n",
       "      <td>28/06/2022</td>\n",
       "      <td>30</td>\n",
       "      <td>4</td>\n",
       "      <td>Ventoso</td>\n",
       "    </tr>\n",
       "    <tr>\n",
       "      <th>4</th>\n",
       "      <td>21/08/2022</td>\n",
       "      <td>25</td>\n",
       "      <td>3</td>\n",
       "      <td>Agua</td>\n",
       "    </tr>\n",
       "  </tbody>\n",
       "</table>\n",
       "</div>"
      ],
      "text/plain": [
       "          dia  temperatura  viento   evento\n",
       "0  21/09/2022           33       5      Sol\n",
       "1  23/10/2022           28       4   Lluvia\n",
       "2  03/10/2022           30       5    Nieve\n",
       "3  28/06/2022           30       4  Ventoso\n",
       "4  21/08/2022           25       3     Agua"
      ]
     },
     "execution_count": 20,
     "metadata": {},
     "output_type": "execute_result"
    }
   ],
   "source": [
    "df.head()"
   ]
  },
  {
   "cell_type": "markdown",
   "id": "bfd3c6ea",
   "metadata": {},
   "source": [
    "df.head()\n",
    "--\n",
    "Mostrará en el jupyter notebook el Json creado, y tambien se puede indicar la cantidas de filas que se quieren mostrar"
   ]
  },
  {
   "cell_type": "code",
   "execution_count": 21,
   "id": "b18a4e57",
   "metadata": {},
   "outputs": [
    {
     "data": {
      "text/html": [
       "<div>\n",
       "<style scoped>\n",
       "    .dataframe tbody tr th:only-of-type {\n",
       "        vertical-align: middle;\n",
       "    }\n",
       "\n",
       "    .dataframe tbody tr th {\n",
       "        vertical-align: top;\n",
       "    }\n",
       "\n",
       "    .dataframe thead th {\n",
       "        text-align: right;\n",
       "    }\n",
       "</style>\n",
       "<table border=\"1\" class=\"dataframe\">\n",
       "  <thead>\n",
       "    <tr style=\"text-align: right;\">\n",
       "      <th></th>\n",
       "      <th>dia</th>\n",
       "      <th>temperatura</th>\n",
       "      <th>viento</th>\n",
       "      <th>evento</th>\n",
       "    </tr>\n",
       "  </thead>\n",
       "  <tbody>\n",
       "    <tr>\n",
       "      <th>0</th>\n",
       "      <td>21/09/2022</td>\n",
       "      <td>33</td>\n",
       "      <td>5</td>\n",
       "      <td>Sol</td>\n",
       "    </tr>\n",
       "    <tr>\n",
       "      <th>1</th>\n",
       "      <td>23/10/2022</td>\n",
       "      <td>28</td>\n",
       "      <td>4</td>\n",
       "      <td>Lluvia</td>\n",
       "    </tr>\n",
       "  </tbody>\n",
       "</table>\n",
       "</div>"
      ],
      "text/plain": [
       "          dia  temperatura  viento  evento\n",
       "0  21/09/2022           33       5     Sol\n",
       "1  23/10/2022           28       4  Lluvia"
      ]
     },
     "execution_count": 21,
     "metadata": {},
     "output_type": "execute_result"
    }
   ],
   "source": [
    "df.head(2)"
   ]
  },
  {
   "cell_type": "code",
   "execution_count": 23,
   "id": "f986e182",
   "metadata": {
    "scrolled": true
   },
   "outputs": [
    {
     "data": {
      "text/html": [
       "<div>\n",
       "<style scoped>\n",
       "    .dataframe tbody tr th:only-of-type {\n",
       "        vertical-align: middle;\n",
       "    }\n",
       "\n",
       "    .dataframe tbody tr th {\n",
       "        vertical-align: top;\n",
       "    }\n",
       "\n",
       "    .dataframe thead th {\n",
       "        text-align: right;\n",
       "    }\n",
       "</style>\n",
       "<table border=\"1\" class=\"dataframe\">\n",
       "  <thead>\n",
       "    <tr style=\"text-align: right;\">\n",
       "      <th></th>\n",
       "      <th>dia</th>\n",
       "      <th>temperatura</th>\n",
       "      <th>viento</th>\n",
       "      <th>evento</th>\n",
       "    </tr>\n",
       "  </thead>\n",
       "  <tbody>\n",
       "    <tr>\n",
       "      <th>3</th>\n",
       "      <td>28/06/2022</td>\n",
       "      <td>30</td>\n",
       "      <td>4</td>\n",
       "      <td>Ventoso</td>\n",
       "    </tr>\n",
       "    <tr>\n",
       "      <th>4</th>\n",
       "      <td>21/08/2022</td>\n",
       "      <td>25</td>\n",
       "      <td>3</td>\n",
       "      <td>Agua</td>\n",
       "    </tr>\n",
       "  </tbody>\n",
       "</table>\n",
       "</div>"
      ],
      "text/plain": [
       "          dia  temperatura  viento   evento\n",
       "3  28/06/2022           30       4  Ventoso\n",
       "4  21/08/2022           25       3     Agua"
      ]
     },
     "execution_count": 23,
     "metadata": {},
     "output_type": "execute_result"
    }
   ],
   "source": [
    "df.tail(2)"
   ]
  },
  {
   "cell_type": "markdown",
   "id": "9d73153c",
   "metadata": {},
   "source": [
    "df.tail()\n",
    "---\n",
    "Mostrará valores que más se repiten"
   ]
  },
  {
   "cell_type": "code",
   "execution_count": 24,
   "id": "d822fd3e",
   "metadata": {},
   "outputs": [
    {
     "data": {
      "text/html": [
       "<div>\n",
       "<style scoped>\n",
       "    .dataframe tbody tr th:only-of-type {\n",
       "        vertical-align: middle;\n",
       "    }\n",
       "\n",
       "    .dataframe tbody tr th {\n",
       "        vertical-align: top;\n",
       "    }\n",
       "\n",
       "    .dataframe thead th {\n",
       "        text-align: right;\n",
       "    }\n",
       "</style>\n",
       "<table border=\"1\" class=\"dataframe\">\n",
       "  <thead>\n",
       "    <tr style=\"text-align: right;\">\n",
       "      <th></th>\n",
       "      <th>dia</th>\n",
       "      <th>temperatura</th>\n",
       "      <th>viento</th>\n",
       "      <th>evento</th>\n",
       "    </tr>\n",
       "  </thead>\n",
       "  <tbody>\n",
       "    <tr>\n",
       "      <th>2</th>\n",
       "      <td>03/10/2022</td>\n",
       "      <td>30</td>\n",
       "      <td>5</td>\n",
       "      <td>Nieve</td>\n",
       "    </tr>\n",
       "    <tr>\n",
       "      <th>3</th>\n",
       "      <td>28/06/2022</td>\n",
       "      <td>30</td>\n",
       "      <td>4</td>\n",
       "      <td>Ventoso</td>\n",
       "    </tr>\n",
       "  </tbody>\n",
       "</table>\n",
       "</div>"
      ],
      "text/plain": [
       "          dia  temperatura  viento   evento\n",
       "2  03/10/2022           30       5    Nieve\n",
       "3  28/06/2022           30       4  Ventoso"
      ]
     },
     "execution_count": 24,
     "metadata": {},
     "output_type": "execute_result"
    }
   ],
   "source": [
    "df[2:4]"
   ]
  },
  {
   "cell_type": "markdown",
   "id": "dce9a2f2",
   "metadata": {},
   "source": [
    "df[:] indica el rango que se va a mostrar de las filas "
   ]
  },
  {
   "cell_type": "code",
   "execution_count": 25,
   "id": "0455fa3e",
   "metadata": {},
   "outputs": [
    {
     "data": {
      "text/plain": [
       "Index(['dia', 'temperatura', 'viento', 'evento'], dtype='object')"
      ]
     },
     "execution_count": 25,
     "metadata": {},
     "output_type": "execute_result"
    }
   ],
   "source": [
    "df.columns"
   ]
  },
  {
   "cell_type": "markdown",
   "id": "59522bf0",
   "metadata": {},
   "source": [
    "df.columns \n",
    "---\n",
    "va a mostrar las columnas que se tiene en el json"
   ]
  },
  {
   "cell_type": "code",
   "execution_count": 28,
   "id": "2ccbdbe4",
   "metadata": {},
   "outputs": [
    {
     "data": {
      "text/plain": [
       "0        Sol\n",
       "1     Lluvia\n",
       "2      Nieve\n",
       "3    Ventoso\n",
       "4       Agua\n",
       "Name: evento, dtype: object"
      ]
     },
     "execution_count": 28,
     "metadata": {},
     "output_type": "execute_result"
    }
   ],
   "source": [
    "df.evento"
   ]
  },
  {
   "cell_type": "markdown",
   "id": "64267eb4",
   "metadata": {},
   "source": [
    "df.'Nombre del campo' se podrá ver los datos de ese campo"
   ]
  },
  {
   "cell_type": "code",
   "execution_count": 29,
   "id": "c6f52db4",
   "metadata": {},
   "outputs": [
    {
     "data": {
      "text/plain": [
       "pandas.core.series.Series"
      ]
     },
     "execution_count": 29,
     "metadata": {},
     "output_type": "execute_result"
    }
   ],
   "source": [
    "type(df['evento'])"
   ]
  },
  {
   "cell_type": "markdown",
   "id": "2fd32a10",
   "metadata": {},
   "source": [
    "type()\n",
    "---\n",
    "se puede ver el tipo de dato que tiene el elemento que se coloca en el paréntesis"
   ]
  },
  {
   "cell_type": "code",
   "execution_count": 30,
   "id": "4facd1e8",
   "metadata": {},
   "outputs": [
    {
     "data": {
      "text/html": [
       "<div>\n",
       "<style scoped>\n",
       "    .dataframe tbody tr th:only-of-type {\n",
       "        vertical-align: middle;\n",
       "    }\n",
       "\n",
       "    .dataframe tbody tr th {\n",
       "        vertical-align: top;\n",
       "    }\n",
       "\n",
       "    .dataframe thead th {\n",
       "        text-align: right;\n",
       "    }\n",
       "</style>\n",
       "<table border=\"1\" class=\"dataframe\">\n",
       "  <thead>\n",
       "    <tr style=\"text-align: right;\">\n",
       "      <th></th>\n",
       "      <th>dia</th>\n",
       "      <th>temperatura</th>\n",
       "      <th>viento</th>\n",
       "      <th>evento</th>\n",
       "    </tr>\n",
       "  </thead>\n",
       "  <tbody>\n",
       "    <tr>\n",
       "      <th>0</th>\n",
       "      <td>21/09/2022</td>\n",
       "      <td>33</td>\n",
       "      <td>5</td>\n",
       "      <td>Sol</td>\n",
       "    </tr>\n",
       "    <tr>\n",
       "      <th>1</th>\n",
       "      <td>23/10/2022</td>\n",
       "      <td>28</td>\n",
       "      <td>4</td>\n",
       "      <td>Lluvia</td>\n",
       "    </tr>\n",
       "    <tr>\n",
       "      <th>2</th>\n",
       "      <td>03/10/2022</td>\n",
       "      <td>30</td>\n",
       "      <td>5</td>\n",
       "      <td>Nieve</td>\n",
       "    </tr>\n",
       "    <tr>\n",
       "      <th>3</th>\n",
       "      <td>28/06/2022</td>\n",
       "      <td>30</td>\n",
       "      <td>4</td>\n",
       "      <td>Ventoso</td>\n",
       "    </tr>\n",
       "    <tr>\n",
       "      <th>4</th>\n",
       "      <td>21/08/2022</td>\n",
       "      <td>25</td>\n",
       "      <td>3</td>\n",
       "      <td>Agua</td>\n",
       "    </tr>\n",
       "  </tbody>\n",
       "</table>\n",
       "</div>"
      ],
      "text/plain": [
       "          dia  temperatura  viento   evento\n",
       "0  21/09/2022           33       5      Sol\n",
       "1  23/10/2022           28       4   Lluvia\n",
       "2  03/10/2022           30       5    Nieve\n",
       "3  28/06/2022           30       4  Ventoso\n",
       "4  21/08/2022           25       3     Agua"
      ]
     },
     "execution_count": 30,
     "metadata": {},
     "output_type": "execute_result"
    }
   ],
   "source": [
    "df"
   ]
  },
  {
   "cell_type": "code",
   "execution_count": 4,
   "id": "9cf2dca4",
   "metadata": {},
   "outputs": [
    {
     "data": {
      "text/html": [
       "<div>\n",
       "<style scoped>\n",
       "    .dataframe tbody tr th:only-of-type {\n",
       "        vertical-align: middle;\n",
       "    }\n",
       "\n",
       "    .dataframe tbody tr th {\n",
       "        vertical-align: top;\n",
       "    }\n",
       "\n",
       "    .dataframe thead th {\n",
       "        text-align: right;\n",
       "    }\n",
       "</style>\n",
       "<table border=\"1\" class=\"dataframe\">\n",
       "  <thead>\n",
       "    <tr style=\"text-align: right;\">\n",
       "      <th></th>\n",
       "      <th>dia</th>\n",
       "      <th>evento</th>\n",
       "    </tr>\n",
       "  </thead>\n",
       "  <tbody>\n",
       "    <tr>\n",
       "      <th>0</th>\n",
       "      <td>21/09/2022</td>\n",
       "      <td>Sol</td>\n",
       "    </tr>\n",
       "    <tr>\n",
       "      <th>1</th>\n",
       "      <td>23/10/2022</td>\n",
       "      <td>Lluvia</td>\n",
       "    </tr>\n",
       "    <tr>\n",
       "      <th>2</th>\n",
       "      <td>03/10/2022</td>\n",
       "      <td>Nieve</td>\n",
       "    </tr>\n",
       "    <tr>\n",
       "      <th>3</th>\n",
       "      <td>28/06/2022</td>\n",
       "      <td>Ventoso</td>\n",
       "    </tr>\n",
       "    <tr>\n",
       "      <th>4</th>\n",
       "      <td>21/08/2022</td>\n",
       "      <td>Agua</td>\n",
       "    </tr>\n",
       "  </tbody>\n",
       "</table>\n",
       "</div>"
      ],
      "text/plain": [
       "          dia   evento\n",
       "0  21/09/2022      Sol\n",
       "1  23/10/2022   Lluvia\n",
       "2  03/10/2022    Nieve\n",
       "3  28/06/2022  Ventoso\n",
       "4  21/08/2022     Agua"
      ]
     },
     "execution_count": 4,
     "metadata": {},
     "output_type": "execute_result"
    }
   ],
   "source": [
    "df[['dia','evento']]"
   ]
  },
  {
   "cell_type": "markdown",
   "id": "cf2f9c65",
   "metadata": {},
   "source": [
    "poniendo df [[nombre de los campos seleccionados con comilla y separados por comas]] se va a mostrar la información de esas columnas"
   ]
  },
  {
   "cell_type": "markdown",
   "id": "24ae13d3",
   "metadata": {},
   "source": [
    "poniendo solo df se mostrará el data frame"
   ]
  },
  {
   "cell_type": "code",
   "execution_count": 7,
   "id": "f3986eac",
   "metadata": {},
   "outputs": [
    {
     "data": {
      "text/plain": [
       "33"
      ]
     },
     "execution_count": 7,
     "metadata": {},
     "output_type": "execute_result"
    }
   ],
   "source": [
    "df['temperatura'].max()"
   ]
  },
  {
   "cell_type": "markdown",
   "id": "59302c72",
   "metadata": {},
   "source": [
    ".max() indica el máximo valor y .min() el valor minimo "
   ]
  },
  {
   "cell_type": "code",
   "execution_count": 9,
   "id": "eb4b6a08",
   "metadata": {},
   "outputs": [
    {
     "data": {
      "text/plain": [
       "2.949576240750525"
      ]
     },
     "execution_count": 9,
     "metadata": {},
     "output_type": "execute_result"
    }
   ],
   "source": [
    "df['temperatura'].std()"
   ]
  },
  {
   "cell_type": "markdown",
   "id": "0794b966",
   "metadata": {},
   "source": [
    ".std() es otra de las funcionalidades"
   ]
  },
  {
   "cell_type": "code",
   "execution_count": 10,
   "id": "a22fb554",
   "metadata": {},
   "outputs": [
    {
     "data": {
      "text/html": [
       "<div>\n",
       "<style scoped>\n",
       "    .dataframe tbody tr th:only-of-type {\n",
       "        vertical-align: middle;\n",
       "    }\n",
       "\n",
       "    .dataframe tbody tr th {\n",
       "        vertical-align: top;\n",
       "    }\n",
       "\n",
       "    .dataframe thead th {\n",
       "        text-align: right;\n",
       "    }\n",
       "</style>\n",
       "<table border=\"1\" class=\"dataframe\">\n",
       "  <thead>\n",
       "    <tr style=\"text-align: right;\">\n",
       "      <th></th>\n",
       "      <th>temperatura</th>\n",
       "      <th>viento</th>\n",
       "    </tr>\n",
       "  </thead>\n",
       "  <tbody>\n",
       "    <tr>\n",
       "      <th>count</th>\n",
       "      <td>5.000000</td>\n",
       "      <td>5.00000</td>\n",
       "    </tr>\n",
       "    <tr>\n",
       "      <th>mean</th>\n",
       "      <td>29.200000</td>\n",
       "      <td>4.20000</td>\n",
       "    </tr>\n",
       "    <tr>\n",
       "      <th>std</th>\n",
       "      <td>2.949576</td>\n",
       "      <td>0.83666</td>\n",
       "    </tr>\n",
       "    <tr>\n",
       "      <th>min</th>\n",
       "      <td>25.000000</td>\n",
       "      <td>3.00000</td>\n",
       "    </tr>\n",
       "    <tr>\n",
       "      <th>25%</th>\n",
       "      <td>28.000000</td>\n",
       "      <td>4.00000</td>\n",
       "    </tr>\n",
       "    <tr>\n",
       "      <th>50%</th>\n",
       "      <td>30.000000</td>\n",
       "      <td>4.00000</td>\n",
       "    </tr>\n",
       "    <tr>\n",
       "      <th>75%</th>\n",
       "      <td>30.000000</td>\n",
       "      <td>5.00000</td>\n",
       "    </tr>\n",
       "    <tr>\n",
       "      <th>max</th>\n",
       "      <td>33.000000</td>\n",
       "      <td>5.00000</td>\n",
       "    </tr>\n",
       "  </tbody>\n",
       "</table>\n",
       "</div>"
      ],
      "text/plain": [
       "       temperatura   viento\n",
       "count     5.000000  5.00000\n",
       "mean     29.200000  4.20000\n",
       "std       2.949576  0.83666\n",
       "min      25.000000  3.00000\n",
       "25%      28.000000  4.00000\n",
       "50%      30.000000  4.00000\n",
       "75%      30.000000  5.00000\n",
       "max      33.000000  5.00000"
      ]
     },
     "execution_count": 10,
     "metadata": {},
     "output_type": "execute_result"
    }
   ],
   "source": [
    "df.describe()"
   ]
  },
  {
   "cell_type": "markdown",
   "id": "498b9bad",
   "metadata": {},
   "source": [
    ".describe()\n",
    "---\n",
    "va a mostrar descripción importante del json "
   ]
  },
  {
   "cell_type": "code",
   "execution_count": 14,
   "id": "250223f3",
   "metadata": {},
   "outputs": [
    {
     "data": {
      "text/html": [
       "<div>\n",
       "<style scoped>\n",
       "    .dataframe tbody tr th:only-of-type {\n",
       "        vertical-align: middle;\n",
       "    }\n",
       "\n",
       "    .dataframe tbody tr th {\n",
       "        vertical-align: top;\n",
       "    }\n",
       "\n",
       "    .dataframe thead th {\n",
       "        text-align: right;\n",
       "    }\n",
       "</style>\n",
       "<table border=\"1\" class=\"dataframe\">\n",
       "  <thead>\n",
       "    <tr style=\"text-align: right;\">\n",
       "      <th></th>\n",
       "      <th>dia</th>\n",
       "      <th>temperatura</th>\n",
       "      <th>viento</th>\n",
       "      <th>evento</th>\n",
       "    </tr>\n",
       "  </thead>\n",
       "  <tbody>\n",
       "    <tr>\n",
       "      <th>0</th>\n",
       "      <td>21/09/2022</td>\n",
       "      <td>33</td>\n",
       "      <td>5</td>\n",
       "      <td>Sol</td>\n",
       "    </tr>\n",
       "  </tbody>\n",
       "</table>\n",
       "</div>"
      ],
      "text/plain": [
       "          dia  temperatura  viento evento\n",
       "0  21/09/2022           33       5    Sol"
      ]
     },
     "execution_count": 14,
     "metadata": {},
     "output_type": "execute_result"
    }
   ],
   "source": [
    "df[df.temperatura== df.temperatura.max()]"
   ]
  },
  {
   "cell_type": "markdown",
   "id": "6cb73a31",
   "metadata": {},
   "source": [
    "condicionales\n",
    ">, <, >=, <=, ==\n",
    "\n",
    "Otras formas de comparación \n",
    "df[df.temperatura== df['temperatura'].max()]\n",
    "df[df.temperatura >=30]\n",
    "df['dia'][df.temperatura== df['temperatura'].max()]\n",
    "df[['dia','temperatura']][df.temperatura== df['temperatura'].max()]"
   ]
  },
  {
   "cell_type": "code",
   "execution_count": 15,
   "id": "b2662c37",
   "metadata": {},
   "outputs": [
    {
     "data": {
      "text/html": [
       "<div>\n",
       "<style scoped>\n",
       "    .dataframe tbody tr th:only-of-type {\n",
       "        vertical-align: middle;\n",
       "    }\n",
       "\n",
       "    .dataframe tbody tr th {\n",
       "        vertical-align: top;\n",
       "    }\n",
       "\n",
       "    .dataframe thead th {\n",
       "        text-align: right;\n",
       "    }\n",
       "</style>\n",
       "<table border=\"1\" class=\"dataframe\">\n",
       "  <thead>\n",
       "    <tr style=\"text-align: right;\">\n",
       "      <th></th>\n",
       "      <th>dia</th>\n",
       "      <th>temperatura</th>\n",
       "      <th>viento</th>\n",
       "      <th>evento</th>\n",
       "    </tr>\n",
       "  </thead>\n",
       "  <tbody>\n",
       "    <tr>\n",
       "      <th>0</th>\n",
       "      <td>21/09/2022</td>\n",
       "      <td>33</td>\n",
       "      <td>5</td>\n",
       "      <td>Sol</td>\n",
       "    </tr>\n",
       "  </tbody>\n",
       "</table>\n",
       "</div>"
      ],
      "text/plain": [
       "          dia  temperatura  viento evento\n",
       "0  21/09/2022           33       5    Sol"
      ]
     },
     "execution_count": 15,
     "metadata": {},
     "output_type": "execute_result"
    }
   ],
   "source": [
    "df[df.temperatura== df['temperatura'].max()]"
   ]
  },
  {
   "cell_type": "code",
   "execution_count": 19,
   "id": "5841eb8d",
   "metadata": {},
   "outputs": [
    {
     "data": {
      "text/html": [
       "<div>\n",
       "<style scoped>\n",
       "    .dataframe tbody tr th:only-of-type {\n",
       "        vertical-align: middle;\n",
       "    }\n",
       "\n",
       "    .dataframe tbody tr th {\n",
       "        vertical-align: top;\n",
       "    }\n",
       "\n",
       "    .dataframe thead th {\n",
       "        text-align: right;\n",
       "    }\n",
       "</style>\n",
       "<table border=\"1\" class=\"dataframe\">\n",
       "  <thead>\n",
       "    <tr style=\"text-align: right;\">\n",
       "      <th></th>\n",
       "      <th>dia</th>\n",
       "      <th>temperatura</th>\n",
       "    </tr>\n",
       "  </thead>\n",
       "  <tbody>\n",
       "    <tr>\n",
       "      <th>0</th>\n",
       "      <td>21/09/2022</td>\n",
       "      <td>33</td>\n",
       "    </tr>\n",
       "  </tbody>\n",
       "</table>\n",
       "</div>"
      ],
      "text/plain": [
       "          dia  temperatura\n",
       "0  21/09/2022           33"
      ]
     },
     "execution_count": 19,
     "metadata": {},
     "output_type": "execute_result"
    }
   ],
   "source": [
    "df[['dia','temperatura']][df.temperatura== df['temperatura'].max()]"
   ]
  },
  {
   "cell_type": "markdown",
   "id": "39f76f38",
   "metadata": {},
   "source": [
    "buscar pandas series documentation "
   ]
  },
  {
   "cell_type": "markdown",
   "id": "4ea4c980",
   "metadata": {},
   "source": [
    "cambiar la información del index\n",
    "df.index muestra la informacion \n",
    "df.set_index() la cambia, dentro del parentesis va el nuevo valor\n",
    "para guardar los cambios, dentro del parentesis se colocará inplace = True"
   ]
  },
  {
   "cell_type": "code",
   "execution_count": 22,
   "id": "2b06a9e2",
   "metadata": {},
   "outputs": [
    {
     "data": {
      "text/plain": [
       "RangeIndex(start=0, stop=5, step=1)"
      ]
     },
     "execution_count": 22,
     "metadata": {},
     "output_type": "execute_result"
    }
   ],
   "source": [
    "df.index"
   ]
  },
  {
   "cell_type": "code",
   "execution_count": 25,
   "id": "9d67a2bd",
   "metadata": {},
   "outputs": [],
   "source": [
    "df.set_index('dia', inplace = True)"
   ]
  },
  {
   "cell_type": "code",
   "execution_count": 26,
   "id": "ddec31a7",
   "metadata": {},
   "outputs": [
    {
     "data": {
      "text/html": [
       "<div>\n",
       "<style scoped>\n",
       "    .dataframe tbody tr th:only-of-type {\n",
       "        vertical-align: middle;\n",
       "    }\n",
       "\n",
       "    .dataframe tbody tr th {\n",
       "        vertical-align: top;\n",
       "    }\n",
       "\n",
       "    .dataframe thead th {\n",
       "        text-align: right;\n",
       "    }\n",
       "</style>\n",
       "<table border=\"1\" class=\"dataframe\">\n",
       "  <thead>\n",
       "    <tr style=\"text-align: right;\">\n",
       "      <th></th>\n",
       "      <th>temperatura</th>\n",
       "      <th>viento</th>\n",
       "      <th>evento</th>\n",
       "    </tr>\n",
       "    <tr>\n",
       "      <th>dia</th>\n",
       "      <th></th>\n",
       "      <th></th>\n",
       "      <th></th>\n",
       "    </tr>\n",
       "  </thead>\n",
       "  <tbody>\n",
       "    <tr>\n",
       "      <th>21/09/2022</th>\n",
       "      <td>33</td>\n",
       "      <td>5</td>\n",
       "      <td>Sol</td>\n",
       "    </tr>\n",
       "    <tr>\n",
       "      <th>23/10/2022</th>\n",
       "      <td>28</td>\n",
       "      <td>4</td>\n",
       "      <td>Lluvia</td>\n",
       "    </tr>\n",
       "    <tr>\n",
       "      <th>03/10/2022</th>\n",
       "      <td>30</td>\n",
       "      <td>5</td>\n",
       "      <td>Nieve</td>\n",
       "    </tr>\n",
       "    <tr>\n",
       "      <th>28/06/2022</th>\n",
       "      <td>30</td>\n",
       "      <td>4</td>\n",
       "      <td>Ventoso</td>\n",
       "    </tr>\n",
       "    <tr>\n",
       "      <th>21/08/2022</th>\n",
       "      <td>25</td>\n",
       "      <td>3</td>\n",
       "      <td>Agua</td>\n",
       "    </tr>\n",
       "  </tbody>\n",
       "</table>\n",
       "</div>"
      ],
      "text/plain": [
       "            temperatura  viento   evento\n",
       "dia                                     \n",
       "21/09/2022           33       5      Sol\n",
       "23/10/2022           28       4   Lluvia\n",
       "03/10/2022           30       5    Nieve\n",
       "28/06/2022           30       4  Ventoso\n",
       "21/08/2022           25       3     Agua"
      ]
     },
     "execution_count": 26,
     "metadata": {},
     "output_type": "execute_result"
    }
   ],
   "source": [
    "df"
   ]
  },
  {
   "cell_type": "markdown",
   "id": "7b736cb1",
   "metadata": {},
   "source": [
    "localizar algún dato\n",
    "df.loc[dato a localizar (index)]"
   ]
  },
  {
   "cell_type": "code",
   "execution_count": 30,
   "id": "7eaa0808",
   "metadata": {},
   "outputs": [
    {
     "data": {
      "text/plain": [
       "temperatura        28\n",
       "viento              4\n",
       "evento         Lluvia\n",
       "Name: 23/10/2022, dtype: object"
      ]
     },
     "execution_count": 30,
     "metadata": {},
     "output_type": "execute_result"
    }
   ],
   "source": [
    "df.loc['23/10/2022']"
   ]
  },
  {
   "cell_type": "markdown",
   "id": "504771a5",
   "metadata": {},
   "source": [
    "cambiar el index "
   ]
  },
  {
   "cell_type": "code",
   "execution_count": 35,
   "id": "9c37d120",
   "metadata": {},
   "outputs": [
    {
     "data": {
      "text/html": [
       "<div>\n",
       "<style scoped>\n",
       "    .dataframe tbody tr th:only-of-type {\n",
       "        vertical-align: middle;\n",
       "    }\n",
       "\n",
       "    .dataframe tbody tr th {\n",
       "        vertical-align: top;\n",
       "    }\n",
       "\n",
       "    .dataframe thead th {\n",
       "        text-align: right;\n",
       "    }\n",
       "</style>\n",
       "<table border=\"1\" class=\"dataframe\">\n",
       "  <thead>\n",
       "    <tr style=\"text-align: right;\">\n",
       "      <th></th>\n",
       "      <th>index</th>\n",
       "      <th>dia</th>\n",
       "      <th>temperatura</th>\n",
       "      <th>viento</th>\n",
       "      <th>evento</th>\n",
       "    </tr>\n",
       "  </thead>\n",
       "  <tbody>\n",
       "    <tr>\n",
       "      <th>0</th>\n",
       "      <td>0</td>\n",
       "      <td>21/09/2022</td>\n",
       "      <td>33</td>\n",
       "      <td>5</td>\n",
       "      <td>Sol</td>\n",
       "    </tr>\n",
       "    <tr>\n",
       "      <th>1</th>\n",
       "      <td>1</td>\n",
       "      <td>23/10/2022</td>\n",
       "      <td>28</td>\n",
       "      <td>4</td>\n",
       "      <td>Lluvia</td>\n",
       "    </tr>\n",
       "    <tr>\n",
       "      <th>2</th>\n",
       "      <td>2</td>\n",
       "      <td>03/10/2022</td>\n",
       "      <td>30</td>\n",
       "      <td>5</td>\n",
       "      <td>Nieve</td>\n",
       "    </tr>\n",
       "    <tr>\n",
       "      <th>3</th>\n",
       "      <td>3</td>\n",
       "      <td>28/06/2022</td>\n",
       "      <td>30</td>\n",
       "      <td>4</td>\n",
       "      <td>Ventoso</td>\n",
       "    </tr>\n",
       "    <tr>\n",
       "      <th>4</th>\n",
       "      <td>4</td>\n",
       "      <td>21/08/2022</td>\n",
       "      <td>25</td>\n",
       "      <td>3</td>\n",
       "      <td>Ventoso</td>\n",
       "    </tr>\n",
       "  </tbody>\n",
       "</table>\n",
       "</div>"
      ],
      "text/plain": [
       "   index         dia  temperatura  viento   evento\n",
       "0      0  21/09/2022           33       5      Sol\n",
       "1      1  23/10/2022           28       4   Lluvia\n",
       "2      2  03/10/2022           30       5    Nieve\n",
       "3      3  28/06/2022           30       4  Ventoso\n",
       "4      4  21/08/2022           25       3  Ventoso"
      ]
     },
     "execution_count": 35,
     "metadata": {},
     "output_type": "execute_result"
    }
   ],
   "source": [
    "df.reset_index(inplace = True)\n",
    "df"
   ]
  },
  {
   "cell_type": "code",
   "execution_count": 36,
   "id": "319cb22f",
   "metadata": {},
   "outputs": [
    {
     "data": {
      "text/html": [
       "<div>\n",
       "<style scoped>\n",
       "    .dataframe tbody tr th:only-of-type {\n",
       "        vertical-align: middle;\n",
       "    }\n",
       "\n",
       "    .dataframe tbody tr th {\n",
       "        vertical-align: top;\n",
       "    }\n",
       "\n",
       "    .dataframe thead th {\n",
       "        text-align: right;\n",
       "    }\n",
       "</style>\n",
       "<table border=\"1\" class=\"dataframe\">\n",
       "  <thead>\n",
       "    <tr style=\"text-align: right;\">\n",
       "      <th></th>\n",
       "      <th>index</th>\n",
       "      <th>dia</th>\n",
       "      <th>temperatura</th>\n",
       "      <th>viento</th>\n",
       "    </tr>\n",
       "    <tr>\n",
       "      <th>evento</th>\n",
       "      <th></th>\n",
       "      <th></th>\n",
       "      <th></th>\n",
       "      <th></th>\n",
       "    </tr>\n",
       "  </thead>\n",
       "  <tbody>\n",
       "    <tr>\n",
       "      <th>Sol</th>\n",
       "      <td>0</td>\n",
       "      <td>21/09/2022</td>\n",
       "      <td>33</td>\n",
       "      <td>5</td>\n",
       "    </tr>\n",
       "    <tr>\n",
       "      <th>Lluvia</th>\n",
       "      <td>1</td>\n",
       "      <td>23/10/2022</td>\n",
       "      <td>28</td>\n",
       "      <td>4</td>\n",
       "    </tr>\n",
       "    <tr>\n",
       "      <th>Nieve</th>\n",
       "      <td>2</td>\n",
       "      <td>03/10/2022</td>\n",
       "      <td>30</td>\n",
       "      <td>5</td>\n",
       "    </tr>\n",
       "    <tr>\n",
       "      <th>Ventoso</th>\n",
       "      <td>3</td>\n",
       "      <td>28/06/2022</td>\n",
       "      <td>30</td>\n",
       "      <td>4</td>\n",
       "    </tr>\n",
       "    <tr>\n",
       "      <th>Ventoso</th>\n",
       "      <td>4</td>\n",
       "      <td>21/08/2022</td>\n",
       "      <td>25</td>\n",
       "      <td>3</td>\n",
       "    </tr>\n",
       "  </tbody>\n",
       "</table>\n",
       "</div>"
      ],
      "text/plain": [
       "         index         dia  temperatura  viento\n",
       "evento                                         \n",
       "Sol          0  21/09/2022           33       5\n",
       "Lluvia       1  23/10/2022           28       4\n",
       "Nieve        2  03/10/2022           30       5\n",
       "Ventoso      3  28/06/2022           30       4\n",
       "Ventoso      4  21/08/2022           25       3"
      ]
     },
     "execution_count": 36,
     "metadata": {},
     "output_type": "execute_result"
    }
   ],
   "source": [
    "df.set_index('evento', inplace = True)\n",
    "df"
   ]
  },
  {
   "cell_type": "code",
   "execution_count": 39,
   "id": "4b4b1d3f",
   "metadata": {},
   "outputs": [
    {
     "data": {
      "text/html": [
       "<div>\n",
       "<style scoped>\n",
       "    .dataframe tbody tr th:only-of-type {\n",
       "        vertical-align: middle;\n",
       "    }\n",
       "\n",
       "    .dataframe tbody tr th {\n",
       "        vertical-align: top;\n",
       "    }\n",
       "\n",
       "    .dataframe thead th {\n",
       "        text-align: right;\n",
       "    }\n",
       "</style>\n",
       "<table border=\"1\" class=\"dataframe\">\n",
       "  <thead>\n",
       "    <tr style=\"text-align: right;\">\n",
       "      <th></th>\n",
       "      <th>index</th>\n",
       "      <th>dia</th>\n",
       "      <th>temperatura</th>\n",
       "      <th>viento</th>\n",
       "    </tr>\n",
       "    <tr>\n",
       "      <th>evento</th>\n",
       "      <th></th>\n",
       "      <th></th>\n",
       "      <th></th>\n",
       "      <th></th>\n",
       "    </tr>\n",
       "  </thead>\n",
       "  <tbody>\n",
       "    <tr>\n",
       "      <th>Ventoso</th>\n",
       "      <td>3</td>\n",
       "      <td>28/06/2022</td>\n",
       "      <td>30</td>\n",
       "      <td>4</td>\n",
       "    </tr>\n",
       "    <tr>\n",
       "      <th>Ventoso</th>\n",
       "      <td>4</td>\n",
       "      <td>21/08/2022</td>\n",
       "      <td>25</td>\n",
       "      <td>3</td>\n",
       "    </tr>\n",
       "  </tbody>\n",
       "</table>\n",
       "</div>"
      ],
      "text/plain": [
       "         index         dia  temperatura  viento\n",
       "evento                                         \n",
       "Ventoso      3  28/06/2022           30       4\n",
       "Ventoso      4  21/08/2022           25       3"
      ]
     },
     "execution_count": 39,
     "metadata": {},
     "output_type": "execute_result"
    }
   ],
   "source": [
    "df.loc['Ventoso']"
   ]
  },
  {
   "cell_type": "markdown",
   "id": "9507fc27",
   "metadata": {},
   "source": [
    "------------------------------------------------------------\n",
    "Obtener Json a DataFrame"
   ]
  },
  {
   "cell_type": "code",
   "execution_count": 2,
   "id": "83844dbe",
   "metadata": {},
   "outputs": [
    {
     "name": "stdout",
     "output_type": "stream",
     "text": [
      "{\"schema\":{\"fields\":[{\"name\":\"index\",\"type\":\"integer\"},{\"name\":\"dia\",\"type\":\"string\"},{\"name\":\"temperatura\",\"type\":\"integer\"},{\"name\":\"viento\",\"type\":\"integer\"},{\"name\":\"evento\",\"type\":\"string\"}],\"primaryKey\":[\"index\"],\"pandas_version\":\"1.4.0\"},\"data\":[{\"index\":0,\"dia\":\"21\\/09\\/2022\",\"temperatura\":33,\"viento\":5,\"evento\":\"Sol\"},{\"index\":1,\"dia\":\"23\\/10\\/2022\",\"temperatura\":28,\"viento\":4,\"evento\":\"Lluvia\"},{\"index\":2,\"dia\":\"03\\/10\\/2022\",\"temperatura\":30,\"viento\":5,\"evento\":\"Nieve\"},{\"index\":3,\"dia\":\"28\\/06\\/2022\",\"temperatura\":30,\"viento\":4,\"evento\":\"Ventoso\"},{\"index\":4,\"dia\":\"21\\/08\\/2022\",\"temperatura\":25,\"viento\":3,\"evento\":\"Ventoso\"}]}\n"
     ]
    }
   ],
   "source": [
    "json = df.to_json(orient = 'table')\n",
    "print(json)"
   ]
  }
 ],
 "metadata": {
  "kernelspec": {
   "display_name": "Python 3 (ipykernel)",
   "language": "python",
   "name": "python3"
  },
  "language_info": {
   "codemirror_mode": {
    "name": "ipython",
    "version": 3
   },
   "file_extension": ".py",
   "mimetype": "text/x-python",
   "name": "python",
   "nbconvert_exporter": "python",
   "pygments_lexer": "ipython3",
   "version": "3.9.12"
  }
 },
 "nbformat": 4,
 "nbformat_minor": 5
}
